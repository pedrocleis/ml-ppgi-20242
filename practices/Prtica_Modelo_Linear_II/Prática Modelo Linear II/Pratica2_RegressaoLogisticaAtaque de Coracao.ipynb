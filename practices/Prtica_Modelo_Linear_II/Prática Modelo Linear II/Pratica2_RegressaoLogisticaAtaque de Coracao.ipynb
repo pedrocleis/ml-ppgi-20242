{
 "cells": [
  {
   "cell_type": "markdown",
   "metadata": {
    "id": "sKPfuEnapDnU"
   },
   "source": [
    "# <font color=\"darkblue\"> Prática 02: Regressão Logística - Ataque de Coração</font>"
   ]
  },
  {
   "cell_type": "markdown",
   "metadata": {
    "id": "nKa5whanpntS"
   },
   "source": [
    "**Objetivos:**\n",
    "\n",
    "\n",
    "*   Apresentar  plataforma Kaglee\n",
    "*   Inferir dados de uma base real utilizando o algoritmo de Regressão Logística\n",
    "\n",
    "**Requisitos de execução:**\n",
    "\n",
    "\n",
    "*   Upload do arquivo *heart_failure_clinical_records_dataset.csv*"
   ]
  },
  {
   "cell_type": "markdown",
   "metadata": {
    "id": "OPCbV-Udr1Pz"
   },
   "source": [
    "**Atividade 1:**\n",
    "\n",
    "1. Visitar a base de dados: https://www.kaggle.com/andrewmvd/heart-failure-clinical-data\n",
    "2. Carregar os dados do arquivo *heart_failure_clinical_records_dataset.csv* utilizando o pandas.\n",
    "\n",
    "    "
   ]
  },
  {
   "cell_type": "code",
   "execution_count": null,
   "metadata": {
    "colab": {
     "base_uri": "https://localhost:8080/"
    },
    "executionInfo": {
     "elapsed": 3,
     "status": "ok",
     "timestamp": 1710267904294,
     "user": {
      "displayName": "Gilberto Farias",
      "userId": "08659255523274913012"
     },
     "user_tz": 180
    },
    "id": "ZROjmwlFocyd",
    "outputId": "3ed40eba-1fe9-4459-b04b-e97ab782eb39"
   },
   "outputs": [],
   "source": [
    "import pandas as pd\n",
    "import numpy as np\n",
    "\n",
    "heart_data = pd.read_csv('heart_failure_clinical_records_dataset.csv')\n",
    "print(heart_data.head())\n"
   ]
  },
  {
   "cell_type": "markdown",
   "metadata": {
    "id": "O73AMlZRtOTU"
   },
   "source": [
    "**Atividade 2:**\n",
    "\n",
    "1. Extrair os valores do *DataFrame* pandas e colocar nas variáveis\n"
   ]
  },
  {
   "cell_type": "code",
   "execution_count": null,
   "metadata": {
    "id": "sU9ugDeOtaHd"
   },
   "outputs": [],
   "source": [
    "from sklearn.preprocessing import StandardScaler\n",
    "\n",
    "Features = ['time','anaemia','creatinine_phosphokinase','diabetes','ejection_fraction','serum_creatinine','age', 'high_blood_pressure', 'platelets', 'serum_sodium', 'sex', 'smoking']\n",
    "\n",
    "x = heart_data[Features].values\n",
    "y = heart_data[\"DEATH_EVENT\"].values\n",
    "\n",
    "print(\"d: \" + str(len(Features)))\n",
    "print(\"N: \" + str(len(y)))\n",
    "print(x)"
   ]
  },
  {
   "cell_type": "markdown",
   "metadata": {
    "id": "LWlIeFootavy"
   },
   "source": [
    "**Atividade 3:**\n",
    "\n",
    "1. Separar os dados em conjunto de treinamento e teste\n"
   ]
  },
  {
   "cell_type": "code",
   "execution_count": null,
   "metadata": {
    "colab": {
     "base_uri": "https://localhost:8080/"
    },
    "executionInfo": {
     "elapsed": 589,
     "status": "ok",
     "timestamp": 1710267918301,
     "user": {
      "displayName": "Gilberto Farias",
      "userId": "08659255523274913012"
     },
     "user_tz": 180
    },
    "id": "1CEvKox1tsWj",
    "outputId": "444262ce-515f-4e54-ab5d-0724390cf80e"
   },
   "outputs": [],
   "source": [
    "from sklearn.model_selection import train_test_split\n",
    "from sklearn.preprocessing import StandardScaler\n",
    "\n",
    "\n",
    "\n",
    "\n",
    "print(\"Tamanho treinamento: \" + str(len(x_train)))\n",
    "print(\"Tamanho teste: \" + str(len(x_test)))\n",
    "\n",
    "print(x_train)"
   ]
  },
  {
   "cell_type": "markdown",
   "metadata": {
    "id": "0SH_p2JeTmEN"
   },
   "source": [
    "**Atividade 4:**\n",
    "1. Inferir a função a função hipótese $g(x)=\\theta(w^Tx)$ dos dados de treinamento com a classe LogisticRegression do pacote *sklearn.metrics*\n",
    "2. Computar as métricas de aprendizado sobre o dados de teste.\n",
    "3. Aplique a normalização dos dados de entrada e reexecute todos os experimentos. Compare os resultados."
   ]
  },
  {
   "cell_type": "code",
   "execution_count": null,
   "metadata": {
    "colab": {
     "base_uri": "https://localhost:8080/"
    },
    "executionInfo": {
     "elapsed": 539,
     "status": "ok",
     "timestamp": 1710268042808,
     "user": {
      "displayName": "Gilberto Farias",
      "userId": "08659255523274913012"
     },
     "user_tz": 180
    },
    "id": "GbnZN9PUQQ0d",
    "outputId": "b461dba8-a0bd-4a24-877b-b0001163b068"
   },
   "outputs": [],
   "source": [
    "from sklearn.metrics import classification_report\n",
    "from sklearn.linear_model import LogisticRegression\n",
    "\n",
    "model = LogisticRegression()\n",
    "model.fit(x_train, y_train)\n",
    "\n",
    "print(classification_report(y_test, model.predict(x_test)))"
   ]
  },
  {
   "cell_type": "markdown",
   "metadata": {
    "id": "IA3iY7ZY_XdU"
   },
   "source": [
    "**Atividade 5:**\n",
    "\n",
    "1. Exiba os parâmetros (Features) de $X$ ordenados pela sua importância na função de decisão, este valor é indicado pelo vetor $w$. No pacote sklearn.linear_model.LogisticRegression, utilize o atributo $coef_$."
   ]
  },
  {
   "cell_type": "code",
   "execution_count": null,
   "metadata": {
    "colab": {
     "base_uri": "https://localhost:8080/"
    },
    "executionInfo": {
     "elapsed": 6,
     "status": "ok",
     "timestamp": 1710268155658,
     "user": {
      "displayName": "Gilberto Farias",
      "userId": "08659255523274913012"
     },
     "user_tz": 180
    },
    "id": "7Eogo8_h_iYk",
    "outputId": "a6d00f2b-072c-408e-988e-8dad18a3b439"
   },
   "outputs": [],
   "source": [
    "param = [(np.exp(coef), f) for coef, f in zip(model.coef_[0], Features)]\n",
    "param.sort(reverse=True)\n",
    "\n",
    "for p in param:\n",
    "  print(p)"
   ]
  }
 ],
 "metadata": {
  "colab": {
   "authorship_tag": "ABX9TyPqAhN5bfixQqyaq9EtXoYC",
   "provenance": []
  },
  "kernelspec": {
   "display_name": "Python 3 (ipykernel)",
   "language": "python",
   "name": "python3"
  },
  "language_info": {
   "codemirror_mode": {
    "name": "ipython",
    "version": 3
   },
   "file_extension": ".py",
   "mimetype": "text/x-python",
   "name": "python",
   "nbconvert_exporter": "python",
   "pygments_lexer": "ipython3",
   "version": "3.11.5"
  }
 },
 "nbformat": 4,
 "nbformat_minor": 1
}
