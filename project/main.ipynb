{
 "cells": [
  {
   "cell_type": "markdown",
   "id": "37855d43-6840-4f70-89a1-ad711b5f640d",
   "metadata": {},
   "source": [
    "# <font color=\"darkblue\"> Projeto 01 - Reconhecimento de Dígitos</font>"
   ]
  },
  {
   "cell_type": "markdown",
   "id": "421551b8-1ff8-4450-b50f-80238d03a4e0",
   "metadata": {},
   "source": [
    "**Objetivos**\n",
    "\n",
    "Implementar três classificadores de dígitos contidos no dataset MNIST Adaptado, utilizando\n",
    "os três modelos lineares de Aprendizagem de Máquina (AM) estudados: Perceptron, Regressão\n",
    "Linear e Regressão Logística."
   ]
  },
  {
   "cell_type": "markdown",
   "id": "2a0f585f-01f3-435f-bfb6-a682ea0b5f77",
   "metadata": {},
   "source": [
    "**Dataset MNIST adaptado**\n",
    "\n",
    "Os arquivos train.csv e test.csv contêm imagens do dataset MNIST, em escala de cinza, dos\n",
    "dígitos 0, 1, 4 e 5 escritos a mão. Cada imagem é composta por 28 linhas e 28 colunas em um\n",
    "total de 784 pixels. Cada pixel possui um valor associado único, que indica seu tom de cinza.\n",
    "Quanto mais alto é esse valor, mais escuro é o pixel. Os valores de cada pixel estão no intervalo\n",
    "fechado [0, 255].\n",
    "\n",
    "Os dados de entrada, (train.csv), possuem 785 colunas. A primeira coluna, chamada “label”,\n",
    "é o dígito que foi desenhado pelo usuário. O resto das colunas contém os valores dos pixels da\n",
    "imagem associada.\n",
    "\n",
    "Cada coluna de pixel, nos dados de treino, é nomeada como “pixel𝑥”, onde 𝑥 é um inteiro\n",
    "no intervalo [0, 783]. Para localizar este pixel na imagem, suponha que decompomos 𝑥 como\n",
    "𝑥 = 𝑖 ∗ 28 + 𝑗, onde 𝑖 e 𝑗 são inteiros no intervalor [0, 27]. Então o “pixel𝑥” está localizado nalinha 𝑖 e coluna 𝑗 de uma matriz 28𝑥28 (indexada por zero). Por exemplo, “pixel31” indica o valor do pixel que está na quarta coluna, da esquerda pra direita, e na segunda linha.\n",
    "\n",
    "Os dados de teste, (test.csv), possuem o mesmo formato dos dados de treinamento."
   ]
  },
  {
   "cell_type": "markdown",
   "id": "3f11778f-c851-4134-8462-890b413664b4",
   "metadata": {},
   "source": [
    "# <font color=\"darkblue\"> Solução </font>"
   ]
  },
  {
   "cell_type": "markdown",
   "id": "fae30b8c-9aeb-4a53-a2c7-99cffc34c762",
   "metadata": {},
   "source": [
    "**Importação do dataset**"
   ]
  },
  {
   "cell_type": "code",
   "execution_count": 1,
   "id": "cd12b42a-d7ab-42ed-9b79-587a71e36d4b",
   "metadata": {},
   "outputs": [],
   "source": [
    "import numpy as np\n",
    "\n",
    "data_path = \"dataset_digits/\"\n",
    "train = np.genfromtxt(data_path + \"train.csv\", delimiter=\";\")\n",
    "test = np.genfromtxt(data_path + \"test.csv\", delimiter=\";\")\n",
    "\n",
    "# Rm first line of labels\n",
    "train = train[1:]\n",
    "test = test[1:]"
   ]
  },
  {
   "cell_type": "code",
   "execution_count": 2,
   "id": "166b4fef-3f05-464d-b50b-451e06691e89",
   "metadata": {},
   "outputs": [
    {
     "name": "stdout",
     "output_type": "stream",
     "text": [
      "0\n",
      "28\n"
     ]
    },
    {
     "data": {
      "image/png": "[encoded data removed]",
      "text/plain": [
       "<Figure size 432x288 with 1 Axes>"
      ]
     },
     "metadata": {
      "needs_background": "light"
     },
     "output_type": "display_data"
    }
   ],
   "source": [
    "import matplotlib.pyplot as plt\n",
    "        \n",
    "dim = 28\n",
    "\n",
    "def get_images_and_labels(data):\n",
    "    delta = 1 # image label\n",
    "    X = np.empty(shape=(len(data), dim, dim))\n",
    "    # X = np.empty(shape=(len(data), dim * dim))\n",
    "    y = np.empty(len(data), dtype=int)\n",
    "    for i, img in enumerate(data):\n",
    "        # x = 28i + j\n",
    "        X[i] = [[img[delta + 28*i + j] for i in range(dim)] for j in range(dim)]\n",
    "        # X[i] = [img[delta + i] for i in range(len(img) - 1)]\n",
    "        y[i] = int(img[0])\n",
    "\n",
    "    return X, y\n",
    "\n",
    "train_X, train_y = get_images_and_labels(train)\n",
    "test_X, test_y = get_images_and_labels(test)\n",
    "\n",
    "print(train_y[0])\n",
    "print(train_X.shape[1])\n",
    "plt.imshow(train_X[0], cmap=\"Greys\")\n",
    "plt.show()"
   ]
  },
  {
   "cell_type": "markdown",
   "id": "977a2722-f598-463c-aa6a-703721b7c75e",
   "metadata": {},
   "source": [
    "**Redução da dimensão da amostra**\n",
    "\n",
    "Para trabalharmos com modelos de AM que possuem muito pouco grau de liberdade\n",
    "para a construção de sua função hipótese, devemos diminuir a complexidade dos dados de\n",
    "entrada através da redução do número de parâmetros 𝑝 das amostras de treinamento.\n",
    "\n",
    "Como já foi dito na descrição do dataset, cada instância é composta por 𝑝 = 784\n",
    "parâmetros de entrada, sendo um parâmetro por pixel. Logo, há a necessidade de reduzir a\n",
    "quantidade de parâmetros total, a fim de atingir bons resultados na classificação das de tais\n",
    "imagens usando-se modelos de AM mais simples. Uma forma de reduzir consideravelmente\n",
    "o vetor de características é sintetizar os dados das imagens em apenas duas informações de\n",
    "entrada (𝑝 = 2) que são muito importantes na identificação de um dígito numérico: a\n",
    "intensidade e a simetria da imagem."
   ]
  },
  {
   "cell_type": "markdown",
   "id": "054602d4-588e-4702-a50c-4307ce1d1f05",
   "metadata": {},
   "source": [
    "**Cálculo de intensidade e simetria das imagens**\n",
    "\n",
    "\n",
    "Intensidade             |  Simetria Vertical\n",
    ":-------------------------:|:-------------------------:\n",
    "<img title=\"\" alt=\"\" width=\"350\" src=\"I.png\">  |  <img title=\"\" alt=\"\" width=\"350\" src=\"Sv.png\">\n",
    "\n",
    "<!-- <p float=\"left\">\n",
    "<img title=\"\" alt=\"\" width=\"350\" src=\"I.png\">\n",
    "<img title=\"\" alt=\"\" width=\"350\" src=\"Sv.png\">\n",
    "</p> -->"
   ]
  },
  {
   "cell_type": "code",
   "execution_count": 3,
   "id": "e8f24f6a-6d29-4c82-b8ee-fa31a5688f52",
   "metadata": {},
   "outputs": [],
   "source": [
    "def comp_intensity(x):\n",
    "    return np.sum(x) / 255.0\n",
    "            \n",
    "def comp_vsymmetry(x):\n",
    "    Sv = 0.0\n",
    "    for i in range(dim):\n",
    "        for j in range(int(dim / 2)):\n",
    "            Sv += abs(x[i, j] - x[i, dim - 1 - j])\n",
    "    return Sv / 255.0\n",
    "\n",
    "def comp_hsymmetry(x):\n",
    "    Sh = 0.0\n",
    "    for i in range(int(dim / 2)):\n",
    "        for j in range(dim):\n",
    "            Sh += abs(x[i, j] - x[dim - 1 - i, j])\n",
    "    return Sh / 255.0\n",
    "\n",
    "def comp_symmetry(x):\n",
    "    return comp_vsymmetry(x) + comp_hsymmetry(x)"
   ]
  },
  {
   "cell_type": "markdown",
   "id": "58cacf84-20f1-4252-9f3b-56b285a85c9a",
   "metadata": {},
   "source": [
    "**Construção de novos arquivos**\n",
    "\n",
    "Nesta atividade, deve-se construir novos arquivos de treino e teste a serem chamados\n",
    "de train_redu.csv e test_redu.csv. Esses arquivos conterão as seguintes colunas: label,\n",
    "intensidade e simetria. "
   ]
  },
  {
   "cell_type": "code",
   "execution_count": 4,
   "id": "7556d4eb-d386-4665-bf92-db76aed94936",
   "metadata": {},
   "outputs": [],
   "source": [
    "def normalize(data, j):\n",
    "    \"\"\"\n",
    "    Normaliza os dados da coluna j entre 0 e 1.\n",
    "    \"\"\"\n",
    "    a = min(data, key=lambda x: x[j])[j]\n",
    "    b = max(data, key=lambda x: x[j])[j]\n",
    "    d = b - a\n",
    "    for i, x in enumerate(data):\n",
    "        data[i][j] = (data[i][j] - a) / d\n",
    "\n",
    "def comp_redu(data, labels):\n",
    "    \"\"\"\n",
    "    Computa a versão reduzida dos dados, transformando o label + 784 parâmetros de intensidade de pixel em (label, intensidade, simetria).\n",
    "    Os dados retornados estão normalizados entre 0 e 1.\n",
    "    \"\"\"\n",
    "    X = np.empty(shape=(len(data), 3))\n",
    "    for i, x in enumerate(data):\n",
    "        X[i] = [labels[i], comp_intensity(x), comp_symmetry(x)]\n",
    "    normalize(X, 1)\n",
    "    normalize(X, 2)\n",
    "    return X\n",
    "\n",
    "train_redu = comp_redu(train_X, train_y)\n",
    "test_redu = comp_redu(test_X, test_y)"
   ]
  },
  {
   "cell_type": "markdown",
   "id": "1b4e4d16-3a1b-4f58-85cc-08f80f2723a5",
   "metadata": {},
   "source": [
    "**Classificação dos dígitos 1 x 5**\n",
    "    \n",
    "Como no modelo Perceptron a classificação é binária, uma alternativa para realizar\n",
    "classificações multiclasse de dígitos é construir, inicialmente, uma solução que classifique\n",
    "apenas dois valores de dígitos: 1 e 5, por exemplo. Para isto, deve-se:\n",
    "\n",
    "- Realizar um filtro nos dados dos arquivos train_redu.csv e test_redu.csv, deixando\n",
    "apenas as imagens com valores 1 ou 5 na coluna label, construindo as instâncias\n",
    "train1x5 e test1x5;\n",
    "- Plotar os dados de train1x5 em um gráfico de duas dimensões (intensidade X\n",
    "simetria) como ilustrado na Figura 4. Dados com 𝑙𝑎𝑏𝑒𝑙 = 1 plotar de azul e dados\n",
    "com 𝑙𝑎𝑏𝑒𝑙 = 5 plotar de vermelho;"
   ]
  },
  {
   "cell_type": "code",
   "execution_count": 5,
   "id": "fc874c02-7447-4522-8559-cc33f0ebaafb",
   "metadata": {},
   "outputs": [
    {
     "data": {
      "image/png": "[encoded data removed]",
      "text/plain": [
       "<Figure size 432x288 with 1 Axes>"
      ]
     },
     "metadata": {
      "needs_background": "light"
     },
     "output_type": "display_data"
    }
   ],
   "source": [
    "def filter(data, digits):\n",
    "    \"\"\"\n",
    "    Retorna os dados cujos labels são iguais a algum dos valores em digits.\n",
    "    \"\"\"\n",
    "    X = np.empty(shape=(0,3))\n",
    "    for i, x in enumerate(data):\n",
    "        for _, d in enumerate(digits):\n",
    "            if x[0] == d:\n",
    "                X = np.append(X, [x], axis=0)\n",
    "                break\n",
    "    return X\n",
    "\n",
    "def plot_data(data, digits):\n",
    "    \"\"\"\n",
    "    Plota os dados cujos labels são iguais a algum dos valores em digits.\n",
    "    \"\"\"\n",
    "    N = data.shape[0]\n",
    "    for i, d in enumerate(digits):\n",
    "        color = 'blue'\n",
    "        if i > 0:\n",
    "            color = 'red'\n",
    "        x = [data[i][1] for i in range(N) if data[i][0] == d]\n",
    "        y = [data[i][2] for i in range(N) if data[i][0] == d]\n",
    "        plt.scatter(x, y, color=color, marker='o', s=20)\n",
    "    # plt.show()\n",
    "\n",
    "digits = [1, 5]\n",
    "train1x5 = filter(train_redu, digits)\n",
    "\n",
    "plot_data(train1x5, digits)"
   ]
  },
  {
   "cell_type": "markdown",
   "id": "1c200a47-567a-428c-be6a-509273d3b37b",
   "metadata": {},
   "source": [
    "- Treinar os três classificadores com os dados de train1x5. Construir o vetor 𝑋 =\n",
    "{(𝑖𝑛𝑡𝑒𝑛𝑠𝑖𝑑𝑎𝑑𝑒, 𝑠𝑖𝑚𝑒𝑡𝑟𝑖𝑎)} para toda imagem de train1x5. Atribuir o valor alvo\n",
    "𝑦 = +1 para a imagem com valor 𝑙𝑎𝑏𝑒𝑙 = 1 e 𝑦 = −1 para 𝑙𝑎𝑏𝑒𝑙 = 5;"
   ]
  },
  {
   "cell_type": "code",
   "execution_count": 6,
   "id": "443f2123-d12f-4e70-9b62-b593e4b98666",
   "metadata": {},
   "outputs": [],
   "source": [
    "import classifiers as cls\n",
    "\n",
    "def get_Xy(data, digits):\n",
    "    \"\"\"\n",
    "    Retorna o label 1 para digits[0] e -1 para os demais.\n",
    "    \"\"\"\n",
    "    N = data.shape[0]\n",
    "    X = np.array(data[:,1:3])\n",
    "    X = np.insert(X, 0, 1, axis=1)\n",
    "    y = np.where(data[:,0] == digits[0], 1, -1)\n",
    "    return X, y\n",
    "\n",
    "X, y = get_Xy(train1x5, digits)\n",
    "\n",
    "# pla = cls.Perceptron()\n",
    "# a = pla.fit(X, y)\n",
    "# print(pla.get_w())\n",
    "\n",
    "# lir = cls.LinearRegression()\n",
    "# lir.fit(X, y)\n",
    "# print(lir.get_w())\n",
    "\n",
    "# lor = cls.LogisticRegression()\n",
    "# lor.fit(X, y)\n",
    "# print(lor.get_w())"
   ]
  },
  {
   "cell_type": "markdown",
   "id": "bbaef776-8b5c-4890-aa1c-e0a8d0c874cd",
   "metadata": {},
   "source": [
    "- Construir o vetor 𝑋 = {(𝑖𝑛𝑡𝑒𝑛𝑠𝑖𝑑𝑎𝑑𝑒, 𝑠𝑖𝑚𝑒𝑡𝑟𝑖𝑎)} para toda imagem de test1x5.\n",
    "Atribuir o valor alvo 𝑦 = 𝑙𝑎𝑏𝑒𝑙 para cada imagem de test1x5;\n",
    "- Testar os três classificadores com os dados de test1x5;\n",
    "- Plotar a reta de cada classificador sobre os dados;"
   ]
  },
  {
   "cell_type": "code",
   "execution_count": 7,
   "id": "dcd86f7c-873b-4af5-a297-401884c4867d",
   "metadata": {},
   "outputs": [],
   "source": [
    "def plot_f(cls, color, label):\n",
    "    x_p = [0, 1]\n",
    "    y_p = [cls.get_y(x_p[0]), cls.get_y(x_p[1])]\n",
    "    plt.plot(x_p, y_p, c=color, label=label)\n",
    "    plt.legend()"
   ]
  },
  {
   "cell_type": "code",
   "execution_count": 8,
   "id": "94a16014-832a-4bbc-aa11-33651771ba34",
   "metadata": {},
   "outputs": [],
   "source": [
    "# test1x5 = filter(test_redu, digits)\n",
    "\n",
    "# X, y = get_Xy(test1x5, digits)\n",
    "\n",
    "# pla_y = pla.predict(X)\n",
    "# lir_y = lir.predict(X)\n",
    "# lor_y = lor.predict(X)\n",
    "\n",
    "# plot_data(test1x5, digits)\n",
    "\n",
    "# plot_f(pla, 'black', 'PLA')\n",
    "# plot_f(lir, 'orange', 'LIR')\n",
    "# plot_f(lor, 'green', 'LOR')"
   ]
  },
  {
   "cell_type": "markdown",
   "id": "7af401da-1512-4ca0-b69b-d197b8c3b4a3",
   "metadata": {},
   "source": [
    "- Gerar a matriz de confusão e os relatórios de eficácia de classificação de cada\n",
    "classificador."
   ]
  },
  {
   "cell_type": "code",
   "execution_count": 9,
   "id": "2fb5fd3f-7d14-46ce-b245-f20694a65354",
   "metadata": {},
   "outputs": [],
   "source": [
    "def get_reports(y_f, h):\n",
    "    \"\"\"\n",
    "    Calcula a matriz de confusão e o relatório de eficácia de classificação contendo: acurácia, precisão, recall e f1 score.\n",
    "    \"\"\"\n",
    "    vn = 0 # verdadeiros negativos\n",
    "    fp = 0 # falsos positivos\n",
    "    fn = 0 # falsos negativos\n",
    "    vp = 0 # verdadeiros positivos\n",
    "    for i, y in enumerate(y_f):\n",
    "        if y == -1 and h[i] == -1:\n",
    "            vn += 1\n",
    "        elif y == -1 and h[i] == 1:\n",
    "            fp += 1\n",
    "        elif y == 1 and h[i] == -1:\n",
    "            fn += 1\n",
    "        else:\n",
    "            vp += 1\n",
    "    acuracia = (vp + vn) / (vp + vn + fp + fn)\n",
    "    precisao = vp / (vp + fp)\n",
    "    recall = vp / (vp + fn)\n",
    "    f1score = 2 * precisao * recall / (precisao + recall)\n",
    "    print(acuracia, precisao, recall, f1score)\n",
    "\n",
    "    mat_conf = {\n",
    "        'verdadeiro-negativo': vn,\n",
    "        'falso-positivo': fp,\n",
    "        'falso-negativo': fn,\n",
    "        'verdadeiro-positivo': vp\n",
    "    }"
   ]
  },
  {
   "cell_type": "code",
   "execution_count": 10,
   "id": "3f475934-2744-443f-9522-fbef80bb9dee",
   "metadata": {},
   "outputs": [],
   "source": [
    "# get_reports(y, pla_y)\n",
    "# get_reports(y, lir_y)\n",
    "# get_reports(y, lor_y)"
   ]
  },
  {
   "cell_type": "markdown",
   "id": "8e2b8f66-7670-48c8-9e18-29f10ab8ff1b",
   "metadata": {},
   "source": [
    "**Classificador de dígitos completo**\n",
    "\n",
    "Para construir um classificador para os quatro dígitos contidos na base, deve-se\n",
    "implementar uma estratégia conhecida como “um contra todos”. Nessa estratégia,\n",
    "inicialmente, escolhe-se o dígito 0 para ser a classe 𝑦 = +1 e todas os outros dígitos (1, 4 e 5), temporariamente, definidos como a classe 𝑦 = −1. Essa transformação está ilustrada na\n",
    "Figura 5.\n",
    "\n",
    "A função hipótese 𝑓0 é inferida pelos novos dados de treino e usada para classificar os\n",
    "dados de teste. Se 𝑓0 classificar o novo dado como da classe +1, então podemos afirmar\n",
    "que a imagem associada é do dígito 0. Se o dado for classificado como −1, nada pode ser\n",
    "afirmado. O próximo passo é criar uma nova instância de treino, eliminando as instâncias\n",
    "com label=0, e construindo uma classificação binária do dígito 1 contra todos.\n",
    "Ao final serão construídas três funções hipótese que juntas irão realizar a classificação\n",
    "multiclasse dos quatro dígitos. Seja 𝑥 a imagem teste a ser classificada, classifique 𝑥 com o\n",
    "seguinte algoritmo:\n",
    "\n",
    "<img title=\"\" alt=\"\" width=\"350\" src=\"classificador.png\">"
   ]
  },
  {
   "cell_type": "code",
   "execution_count": 11,
   "id": "7021a31d-e23e-46cb-9e7d-b4f4406f2d1d",
   "metadata": {},
   "outputs": [],
   "source": [
    "import time\n",
    "\n",
    "class Classifier:\n",
    "    def __init__(self, classifier):\n",
    "        self.cls = classifier\n",
    "        self.f = []\n",
    "        self.digits = [0, 1, 4, 5]\n",
    "\n",
    "    def fit(self, data, w=np.zeros((3), float)):\n",
    "        d = len(self.digits)\n",
    "        colors = ['black', 'green', 'orange']\n",
    "        for i, _ in enumerate(self.digits[0:d-1]):\n",
    "            train = filter(data, self.digits[i:d])\n",
    "            plot_data(train, self.digits[i:d])\n",
    "            X, y = get_Xy(train, self.digits[i:d])\n",
    "            f = self.cls()\n",
    "            f.fit(X, y, w)\n",
    "            plot_f(f, colors[i], label=i)\n",
    "            plt.show()\n",
    "            self.f.append(f)\n",
    "\n",
    "    def predict(X):\n",
    "        p = []\n",
    "        for x in X:\n",
    "            for i, _ in enumerate(self.digits[0:d - 1]):\n",
    "                if self.f[i].predict([x]) == [1]:\n",
    "                    p.append(self.digits[i])\n",
    "                elif i == d - 2:\n",
    "                    p.append(self.digits[d - 1])\n",
    "\n",
    "    def set_digits(self, new_digits):\n",
    "        self.digits = new_digits\n",
    "\n",
    "    def get_w(self, i):\n",
    "        return self.f[i].get_w()"
   ]
  },
  {
   "cell_type": "code",
   "execution_count": 12,
   "id": "df55f615-ad37-4ab4-a4ca-ed42370010c4",
   "metadata": {},
   "outputs": [],
   "source": [
    "# import random\n",
    "\n",
    "# class PocketLearningAlgorithm:\n",
    "#     # def PLA(X, y, f):\n",
    "#     def fit(self, X, y, w=np.zeros((3), float)):\n",
    "#         \"\"\"\n",
    "#         Esta função corresponde ao Algoritmo de Aprendizagem do modelo Perceptron.\n",
    "        \n",
    "#         Paramêtros:\n",
    "#         - X (list[]): Matriz correspondendo aos dados amostra. Cada elemento de X é uma lista que corresponde \n",
    "#         às coordenadas dos pontos gerados.\n",
    "#         - y (list): Classificação dos pontos da amostra X.\n",
    "#         - f (list): Lista de dois elementos correspondendo, respectivamente, aos coeficientes angular e linear \n",
    "#         da função alvo.\n",
    "        \n",
    "#         Retorno:\n",
    "#         - it (int): Quantidade de iterações necessárias para corrigir todos os pontos classificados incorretamente.\n",
    "#         - w (list): Lista de três elementos correspondendo aos pesos do perceptron.\n",
    "#         \"\"\"\n",
    "#         it = 0\n",
    "#         # w = np.zeros((3), float)\n",
    "#         listaPCI = self.constroiListaPCI(X, y, w)\n",
    "#         # i = self.iPrimeiroIncorreto(X, y, w)\n",
    "#         # while (len(listaPCI) > 0):\n",
    "#         N = 100 * len(X)\n",
    "#         best_nb_incorrects = len(listaPCI)\n",
    "#         self.w = w.copy()\n",
    "#         while it < N and len(listaPCI) > 0:\n",
    "#             # Escolha aleatoriamente um ponto xi pertencente à lista\n",
    "#             i = listaPCI[random.randint(0, len(listaPCI) - 1)]\n",
    "#             # i = self.iPrimeiroIncorreto(X, y, w)\n",
    "#             # if i < 0:\n",
    "#             #     break\n",
    "            \n",
    "#             # Atualiza o vetor de pesos ao corrigir a classificação de x\n",
    "#             w[0] += y[i]\n",
    "#             w[1:3] += y[i] * X[i][1:3]\n",
    "\n",
    "#             # Atualiza o melhor classificador encontrado.\n",
    "#             if len(listaPCI) < best_nb_incorrects:\n",
    "#                 best_nb_incorrects = len(listaPCI)\n",
    "#                 self.w = w.copy()\n",
    "\n",
    "#             # Aqui você deverá contruir a lista de pontos classificados incorretamente\n",
    "#             listaPCI = self.constroiListaPCI(X, y, w) \n",
    "            \n",
    "#             # Após atualizar os pesos para correção do ponto escolhido, você irá chamar a função plotGrafico()\n",
    "#             # plot_grafico(X, y, w, f) \n",
    "\n",
    "#             it += 1\n",
    "        \n",
    "#         self.it = it\n",
    "     \n",
    "#     def predict(self, X):\n",
    "#         \"\"\"\n",
    "#         Classifica os dígitos em X.\n",
    "#         \"\"\"\n",
    "#         return [1 if iseq(np.sign(self.w[0]*x[0] + self.w[1]*x[1] + self.w[2]*x[2]), 1) else -1 for x in X]\n",
    "#         # return [np.sign(self.w[0]*x[0] + self.w[1]*x[1] + self.w[2]*x[2]) for x in X]\n",
    "     \n",
    "#     def get_w(self):\n",
    "#         return self.w\n",
    "    \n",
    "#     def constroiListaPCI(self, X, y, w):\n",
    "#         \"\"\"\n",
    "#         Esta função constrói a lista de pontos classificados incorretamente.\n",
    "        \n",
    "#         Paramêtros:\n",
    "#         - X (list[]): Matriz correspondendo aos dados amostra. Cada elemento de X é uma lista que corresponde \n",
    "#         às coordenadas dos pontos gerados.\n",
    "#         - y (list): Classificação dos pontos da amostra X.\n",
    "#         - w (list): Lista correspondendo aos pesos do perceptron.\n",
    "    \n",
    "#         Retorno:\n",
    "#         - l (list): Lista com os pontos classificador incorretamente.\n",
    "#         - new_y (list): Nova classificação de tais pontos.\n",
    "    \n",
    "#         \"\"\"    \n",
    "#         # Substituição para melhorar a eficiência do algoritmo. Na versão anterior, 10N já era muito lento.\n",
    "#         return np.where(np.sign(w[0]*X[:,0] + w[1]*X[:,1] + w[2]*X[:,2]) != y)[0]\n",
    "#         # l = []\n",
    "#         # for i, x in enumerate(X):\n",
    "#         #     hx = np.sign(w[0]*x[0] + w[1]*x[1] + w[2]*x[2])\n",
    "#         #     if hx != y[i]:\n",
    "#         #         l.append(i)\n",
    "#         # print(\"l2:\", l)\n",
    "#         # return l\n",
    "    \n",
    "#     def iPrimeiroIncorreto(self, X, y, w):\n",
    "#         \"\"\"\n",
    "#         Retorna o índice do primeiro ponto classificado incorretamente.\n",
    "#         \"\"\"    \n",
    "#         # new_y = []\n",
    "#         for i, x in enumerate(X):\n",
    "#             hx = np.sign(w[0]*x[0] + w[1]*x[1] + w[2]*x[2])\n",
    "#             # print(hx, y[i], hx != y[i])\n",
    "#             if hx != y[i]:\n",
    "#                 return i\n",
    "                \n",
    "#         # return l, new_y\n",
    "#         return -1\n",
    "    \n",
    "#     def get_y(self, x, shift=0):\n",
    "#         \"\"\"\n",
    "#         Dado um valor de x, computa o valor de y.\n",
    "#         \"\"\"\n",
    "#         return (-self.w[0]+shift - self.w[1]*x) / self.w[2]\n",
    "\n",
    "# cls_pla = Classifier(PocketLearningAlgorithm)\n",
    "# cls_pla.fit(train_redu)\n",
    "\n",
    "# # cls_pla = Classifier(cls.LinearRegression)\n",
    "# # cls_pla.fit(train_redu)"
   ]
  },
  {
   "cell_type": "code",
   "execution_count": 13,
   "id": "f7efb601-ec0d-44a7-92ae-b6f1fb99fc3e",
   "metadata": {},
   "outputs": [
    {
     "data": {
      "image/png": "[encoded data removed]",
      "text/plain": [
       "<Figure size 432x288 with 1 Axes>"
      ]
     },
     "metadata": {
      "needs_background": "light"
     },
     "output_type": "display_data"
    },
    {
     "data": {
      "image/png": "[encoded data removed]",
      "text/plain": [
       "<Figure size 432x288 with 1 Axes>"
      ]
     },
     "metadata": {
      "needs_background": "light"
     },
     "output_type": "display_data"
    },
    {
     "data": {
      "image/png": "[encoded data removed]",
      "text/plain": [
       "<Figure size 432x288 with 1 Axes>"
      ]
     },
     "metadata": {
      "needs_background": "light"
     },
     "output_type": "display_data"
    }
   ],
   "source": [
    "cls_pla = Classifier(cls.LinearRegression)\n",
    "cls_pla.fit(train_redu)"
   ]
  },
  {
   "cell_type": "code",
   "execution_count": 14,
   "id": "5c7a9762-770d-49da-b43f-1ccb628e1646",
   "metadata": {},
   "outputs": [
    {
     "ename": "NameError",
     "evalue": "name 'PocketLearningAlgorithm' is not defined",
     "output_type": "error",
     "traceback": [
      "\u001b[0;31m---------------------------------------------------------------------------\u001b[0m",
      "\u001b[0;31mNameError\u001b[0m                                 Traceback (most recent call last)",
      "\u001b[0;32m/tmp/ipykernel_71797/1411659972.py\u001b[0m in \u001b[0;36m<module>\u001b[0;34m\u001b[0m\n\u001b[0;32m----> 1\u001b[0;31m \u001b[0mcls_pla\u001b[0m \u001b[0;34m=\u001b[0m \u001b[0mClassifier\u001b[0m\u001b[0;34m(\u001b[0m\u001b[0mPocketLearningAlgorithm\u001b[0m\u001b[0;34m)\u001b[0m\u001b[0;34m\u001b[0m\u001b[0;34m\u001b[0m\u001b[0m\n\u001b[0m\u001b[1;32m      2\u001b[0m \u001b[0mcls_pla\u001b[0m\u001b[0;34m.\u001b[0m\u001b[0mfit\u001b[0m\u001b[0;34m(\u001b[0m\u001b[0mtrain_redu\u001b[0m\u001b[0;34m)\u001b[0m\u001b[0;34m\u001b[0m\u001b[0;34m\u001b[0m\u001b[0m\n",
      "\u001b[0;31mNameError\u001b[0m: name 'PocketLearningAlgorithm' is not defined"
     ]
    }
   ],
   "source": [
    "cls_pla = Classifier(PocketLearningAlgorithm)\n",
    "cls_pla.fit(train_redu)"
   ]
  },
  {
   "cell_type": "code",
   "execution_count": null,
   "id": "b31fe237-0b2f-4ff2-b508-4dcbf55abb24",
   "metadata": {},
   "outputs": [],
   "source": [
    "cls_pla = Classifier(cls.LogisticRegression)\n",
    "cls_pla.fit(train_redu)"
   ]
  },
  {
   "cell_type": "markdown",
   "id": "ac6a5363-ba3d-4d6e-876c-c0d306974e42",
   "metadata": {},
   "source": [
    "**Implementações avançadas**\n",
    "\n",
    "- Implementar a estratégia de “um contra todos” definindo a ordem de teste dos dígitos\n",
    "que leve à melhor acurácia global. Ou seja, a ordem proposta anteriormente pode ser\n",
    "alterada para uma ordem arbitrária que produza uma melhor acurácia de classificação."
   ]
  },
  {
   "cell_type": "code",
   "execution_count": null,
   "id": "c531bd7d-0656-48d7-a306-54ef62a4d7b8",
   "metadata": {},
   "outputs": [],
   "source": [
    "Ir rodando o fit, calculando a acurácia e guardando o melhor"
   ]
  }
 ],
 "metadata": {
  "kernelspec": {
   "display_name": "Python 3 (ipykernel)",
   "language": "python",
   "name": "python3"
  },
  "language_info": {
   "codemirror_mode": {
    "name": "ipython",
    "version": 3
   },
   "file_extension": ".py",
   "mimetype": "text/x-python",
   "name": "python",
   "nbconvert_exporter": "python",
   "pygments_lexer": "ipython3",
   "version": "3.10.12"
  }
 },
 "nbformat": 4,
 "nbformat_minor": 5
}
