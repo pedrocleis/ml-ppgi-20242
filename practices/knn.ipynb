{
 "cells": [
  {
   "cell_type": "markdown",
   "metadata": {
    "colab_type": "text",
    "id": "0JFhnlk7at7A"
   },
   "source": [
    "# <font color=\"darkblue\"> Prática 02: Algoritmo k-NN </font>"
   ]
  },
  {
   "cell_type": "markdown",
   "metadata": {
    "colab_type": "text",
    "id": "_Txy0UzyawTX"
   },
   "source": [
    "**Objetivos:**\n",
    "\n",
    "\n",
    "*   Aplicar o algoritmo k-NN a um problema prático.\n",
    "*   Apresentar as funções do Scikit-Learn que lidam com o k-NN.\n",
    "\n"
   ]
  },
  {
   "cell_type": "markdown",
   "metadata": {
    "colab_type": "text",
    "id": "keyryvT2bIae"
   },
   "source": [
    "**Descrição:**\n",
    "\n",
    "Implemente duas versões de um classificador que usa o algoritmo k-NN para identificar dígitos escritos à mão a partir de um conjunto de imagens e compare os tempoa de execução. Na primeira versão, você deverá implementar o algoritmo k-NN conforme visto em sala de aula. Na segunda, você deverá usar a algoritmo k-NN da biblioteca Scikit-Learn. O conjunto de imagens a ser utilizado consiste no dataset <i> Digits </i> da biblioteca Scikit-Learn. "
   ]
  },
  {
   "cell_type": "markdown",
   "metadata": {
    "colab_type": "text",
    "id": "wWnD-OFybVw1"
   },
   "source": [
    "# <font color=\"darkblue\"> Solução </font>"
   ]
  },
  {
   "cell_type": "markdown",
   "metadata": {
    "colab_type": "text",
    "id": "ioVFway7cWiw"
   },
   "source": [
    "### Descrição do Dataset"
   ]
  },
  {
   "cell_type": "code",
   "execution_count": null,
   "metadata": {
    "colab": {},
    "colab_type": "code",
    "id": "Lh0fUl5BbR5J"
   },
   "outputs": [],
   "source": [
    "#%matplotlib inline\n",
    "import matplotlib.pyplot as plt\n",
    "from sklearn.datasets import load_digits\n",
    "from sklearn.model_selection import train_test_split\n",
    "from sklearn.neighbors import KNeighborsClassifier\n",
    "\n",
    "digits = load_digits()\n",
    "print(digits.DESCR)"
   ]
  },
  {
   "cell_type": "markdown",
   "metadata": {},
   "source": [
    "### Exploração do Dataset"
   ]
  },
  {
   "cell_type": "code",
   "execution_count": null,
   "metadata": {
    "colab": {
     "base_uri": "https://localhost:8080/",
     "height": 151
    },
    "colab_type": "code",
    "executionInfo": {
     "elapsed": 1227,
     "status": "ok",
     "timestamp": 1599829327647,
     "user": {
      "displayName": "Bruno Pessoa",
      "photoUrl": "",
      "userId": "11515750209403097426"
     },
     "user_tz": 180
    },
    "id": "dLWAS9VUd0lm",
    "outputId": "318561e6-c34b-4e8c-e960-920baa8e3450"
   },
   "outputs": [],
   "source": [
    "print(digits.target[12])\n",
    "print(digits.data.shape)\n",
    "print(type(digits.data))\n",
    "print(digits.images[10])"
   ]
  },
  {
   "cell_type": "markdown",
   "metadata": {
    "colab_type": "text",
    "id": "_JtDQu4Bcp1X"
   },
   "source": [
    "### Exibição das imagens"
   ]
  },
  {
   "cell_type": "code",
   "execution_count": null,
   "metadata": {
    "colab": {
     "base_uri": "https://localhost:8080/",
     "height": 153
    },
    "colab_type": "code",
    "executionInfo": {
     "elapsed": 864,
     "status": "ok",
     "timestamp": 1599748705228,
     "user": {
      "displayName": "Bruno Pessoa",
      "photoUrl": "",
      "userId": "11515750209403097426"
     },
     "user_tz": 180
    },
    "id": "5_8VQTOfb3c9",
    "outputId": "fd9ebffc-e179-4ae6-b45d-01395e62680a"
   },
   "outputs": [],
   "source": [
    "figure, axes = plt.subplots(nrows=2, ncols=2, figsize=(2, 2))\n",
    "\n",
    "for item in zip(axes.ravel(), digits.images, digits.target):\n",
    "    axes, image, target = item\n",
    "    axes.imshow(image, cmap=plt.cm.gray_r)\n",
    "    axes.set_xticks([]) \n",
    "    axes.set_yticks([])  \n",
    "    axes.set_title(target)\n",
    "    \n",
    "# usado para um numero nao ficar em cima do outro        \n",
    "plt.tight_layout() "
   ]
  },
  {
   "cell_type": "markdown",
   "metadata": {
    "colab_type": "text",
    "id": "8d8JkaJKcv9O"
   },
   "source": [
    "### Implementação da Versão 1 do classificador\n",
    "Divida os dados em dois conjuntos, de treino e teste, implemente o Algoritmo k-NN conforme discutido em sala de aula e exiba a acurácia da classificação e o tempo de execução."
   ]
  },
  {
   "cell_type": "code",
   "execution_count": null,
   "metadata": {},
   "outputs": [],
   "source": []
  },
  {
   "cell_type": "markdown",
   "metadata": {},
   "source": [
    "### Implementação da Versão 2 do classificador\n",
    "Utilize a função train_test_split() da bibioteca Scikit-Learn para separar os dados em treino e teste e o classificador k-NN da própria biblioteca para identificação dos dígitos. Ao final, exiba a classificação e o tempo de execução."
   ]
  },
  {
   "cell_type": "code",
   "execution_count": null,
   "metadata": {
    "colab": {
     "base_uri": "https://localhost:8080/",
     "height": 134
    },
    "colab_type": "code",
    "executionInfo": {
     "elapsed": 662,
     "status": "ok",
     "timestamp": 1599829740804,
     "user": {
      "displayName": "Bruno Pessoa",
      "photoUrl": "",
      "userId": "11515750209403097426"
     },
     "user_tz": 180
    },
    "id": "4uvAVl5Cc6nc",
    "outputId": "6b0bb8f1-7ffa-4dd9-b1c6-d997dde34951",
    "scrolled": true
   },
   "outputs": [],
   "source": []
  }
 ],
 "metadata": {
  "colab": {
   "authorship_tag": "ABX9TyNwmFTF9GYnnZjndFwMuLqr",
   "collapsed_sections": [
    "ioVFway7cWiw",
    "_JtDQu4Bcp1X",
    "8d8JkaJKcv9O"
   ],
   "name": "aula2_pratica2.ipynb",
   "provenance": []
  },
  "kernelspec": {
   "display_name": "Python 3 (ipykernel)",
   "language": "python",
   "name": "python3"
  },
  "language_info": {
   "codemirror_mode": {
    "name": "ipython",
    "version": 3
   },
   "file_extension": ".py",
   "mimetype": "text/x-python",
   "name": "python",
   "nbconvert_exporter": "python",
   "pygments_lexer": "ipython3",
   "version": "3.10.9"
  }
 },
 "nbformat": 4,
 "nbformat_minor": 1
}
